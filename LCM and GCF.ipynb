{
 "cells": [
  {
   "cell_type": "markdown",
   "metadata": {
    "slideshow": {
     "slide_type": "slide"
    }
   },
   "source": [
    "# Is LCM $\\geq$ GCF?\n",
    "\n",
    "## Introduction\n",
    "Suppose there are two positive integers, $M$ and $N$, such that $M\\neq N$. Our goal is to show that the least common multiple, $\\lambda(M,N)$, is greater than the greatest common factor, $\\gamma(M,N)$, for all $M\\neq N$. If $M$ is not equal to $N$ we can always define $M$ to be the greater of the two, $M\\gt N$. We can ignore the trivial case where $M=N$ since\n",
    "\n",
    "$$\\gamma(M,M) = \\lambda(M,M) = M.$$ \n",
    "\n",
    "We will prove the statement the least common multiple, $\\lambda(M,N)$, is greater than the greatest common factor,  $\\gamma(M,N)$, for all $M\\neq N$ by assuming the opposite is true and then showing that assumption leads to a contradiction. This method of proof is also known as proof by contradiction.\n",
    "\n",
    "## Solution\n",
    "$\\lambda(M,N)$ may be defined in terms of $\\gamma(M,N)$ as, \n",
    "    \n",
    "$$\\lambda(M,N)\\equiv \\frac{M\\times N}{\\gamma(M,N)} \\ \\ \\ \\rm{(1)}$$\n",
    "\n",
    "After multiplying both sides by $\\gamma(M,N)$ equation (1)  may be rewritten as,\n",
    "\n",
    "$$\\gamma(M,N)\\times \\lambda(M,N)=M\\times N \\ \\ \\ \\rm{ (2)}.$$\n",
    "\n",
    "Assume the contrary assertion such that, \n",
    "\n",
    "$$\\gamma(M,N) > \\lambda(M,N) \\ \\ \\ \\rm{(3)}. $$\n",
    "    \n",
    "Dividing equation (2) by $\\lambda^2(M,N)$ gives:\n",
    "\n",
    "$$\\frac{\\gamma(M,N)}{\\lambda(M,N)} = \\frac{M\\times N}{\\lambda^2(M,N)} = \\left(\\frac{M}{\\lambda(M,N)}\\right)\\times\\left(\\frac{N}{\\lambda(M,N)}\\right) \\ \\ \\ \\rm{(4)}.$$\n",
    "    \n",
    "Since we have assumed equation (3), equation (4) must always be greater than 1.  \n",
    "However, since $\\lambda(M,N)$ is always greater than or equal to $M$,\n",
    "\n",
    "$$\\frac{M}{\\lambda(M,N)} \\leq 1 \\ \\ \\ \\rm{(5)}.$$ \n",
    "    \n",
    "And since it is assumed that $M>N$ (recall we are neglecting the trivial case where $M=N$)\n",
    "\n",
    "$$\\frac{N}{\\lambda(M,N)} \\lt 1 \\ \\ \\ \\rm{(6)}.$$\n",
    "    \n",
    "Therefore, equation (4) is less than one but this contradicts the assumption in equation (3) and thus the assumption in equation (3) must be false,\n",
    "\n",
    "$$\\gamma(M,N) \\ngtr \\lambda(M,N) \\ \\ \\ \\rm{(7)}. $$\n",
    "\n",
    "Therefore, it is demonstrated that for all positive integers $M>N$, $\\lambda(M,N)\\gt\\gamma(M,N)$;  $Q.E.D.$\n",
    "\n",
    "\n",
    "    "
   ]
  },
  {
   "cell_type": "code",
   "execution_count": null,
   "metadata": {
    "collapsed": true
   },
   "outputs": [],
   "source": []
  }
 ],
 "metadata": {
  "celltoolbar": "Slideshow",
  "kernelspec": {
   "display_name": "Julia 0.6.0",
   "language": "julia",
   "name": "julia-0.6"
  },
  "language_info": {
   "file_extension": ".jl",
   "mimetype": "application/julia",
   "name": "julia",
   "version": "0.6.0"
  }
 },
 "nbformat": 4,
 "nbformat_minor": 2
}
