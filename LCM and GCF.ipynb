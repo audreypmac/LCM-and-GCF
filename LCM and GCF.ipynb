{
 "cells": [
  {
   "cell_type": "markdown",
   "metadata": {},
   "source": [
    "# LCM and GCF\n",
    "## Introduction\n",
    "Suppose there are two positive integers, $M$ and $N$, such that $M\\neq N$. Our goal is to show that the least common multiple, $\\Lambda(M,N)$, is greater than the greatest common fraction, $\\Gamma(M,N)$, for all $M\\neq N$. If $M$ is not equal to $N$ we can always define $M$ to be the greater of the two, $M>=N$. We can ignore the trivial case where $M=N$ since\n",
    "\n",
    "$$\\Gamma(M,M) = \\Lambda(M,M) = M.$$ \n",
    "\n",
    "We will prove the statement $\\Lambda(M,N)$, is greater than the greatest common fraction, $\\Gamma(M,N)$, for all $M\\neq N$ by assuming the opposite is true and then showing that assumption leads to a contradiction. \n",
    "\n",
    "## Solution\n",
    "$\\Lambda(M,N)$ may be defined in terms of $\\Gamma(M,N)$ as, \n",
    "    \n",
    "$$\\Lambda(M,N)\\equiv \\frac{M\\times N}{\\Gamma(M,N)} \\ \\ \\ \\rm{(1)}$$\n",
    "\n",
    "After multiplying both sides by $\\Gamma(M,N)$ equation (1)  may be rewritten as,\n",
    "\n",
    "$$\\Gamma(M,N)\\times \\Lambda(M,N)=M\\times N \\ \\ \\ \\rm{ (2)}.$$\n",
    "\n",
    "Assume the contrary assertion such that, \n",
    "\n",
    "$$\\Gamma(M,N) > \\Lambda(M,N) \\ \\ \\ \\rm{(3)}. $$\n",
    "    \n",
    "Dividing equation (2) by $\\Lambda^2(M,N)$ gives:\n",
    "\n",
    "$$\\frac{\\Gamma(M,N)}{\\Lambda(M,N)} = \\frac{M\\times N}{\\Lambda^2(M,N)} = \\left(\\frac{M}{\\Lambda(M,N)}\\right)\\times\\left(\\frac{N}{\\Lambda(M,N)}\\right) \\ \\ \\ \\rm{(4)}.$$\n",
    "    \n",
    "Since we have assumed equation (3), equation (4) must always be greater than 1.  \n",
    "However, since $\\Lambda(M,N)$ is always greater than or equal to $M$,\n",
    "\n",
    "$$\\frac{M}{\\Lambda(M,N)} \\leq 1 \\ \\ \\ \\rm{(5)}.$$ \n",
    "    \n",
    "And since it is assumed that $M>N$ (recall we are neglecting the trivial case where $M=N$)\n",
    "\n",
    "$$\\frac{N}{\\Lambda(M,N)} \\lt 1 \\ \\ \\ \\rm{(6)}.$$\n",
    "    \n",
    "Therefore, equation (4) is less than one but this contradicts the assumption in equation (3) and thus the assumption in equation (3) must be false. Therefore, it is demonstrated that for all $M>N$, $\\Lambda(M,N)\\gt\\Gamma(M,N)$;  $Q.E.D.$\n",
    "\n",
    "\n",
    "    "
   ]
  }
 ],
 "metadata": {
  "kernelspec": {
   "display_name": "Julia 0.6.0",
   "language": "julia",
   "name": "julia-0.6"
  },
  "language_info": {
   "file_extension": ".jl",
   "mimetype": "application/julia",
   "name": "julia",
   "version": "0.6.0"
  }
 },
 "nbformat": 4,
 "nbformat_minor": 2
}
